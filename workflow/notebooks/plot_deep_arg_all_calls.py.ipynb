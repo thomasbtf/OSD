{
 "cells": [
  {
   "cell_type": "code",
   "execution_count": null,
   "source": [
    "debug = False\n",
    "import sys\n",
    "if not debug:\n",
    "    sys.stderr = open(snakemake.log[0], \"w\")\n",
    "\n",
    "import altair as alt\n",
    "import pandas as pd"
   ],
   "outputs": [],
   "metadata": {}
  },
  {
   "cell_type": "code",
   "execution_count": null,
   "source": [
    "if not debug:\n",
    "    arg_calls = pd.read_csv(snakemake.input[0], sep = \"\\t\")\n",
    "else:\n",
    "    arg_calls = pd.read_csv(\"/local/thomas/OSD/results/tables/deep_arg_calls.tsv\", sep = \"\\t\")\n",
    "    display(arg_calls.head())"
   ],
   "outputs": [],
   "metadata": {}
  },
  {
   "cell_type": "code",
   "execution_count": null,
   "source": [
    "source = arg_calls[\"predicted_ARG-class\"].value_counts().rename_axis('ARG-class').reset_index(name='counts')\n",
    "\n",
    "bars = alt.Chart(source).mark_bar(color=\"#003f5c\").encode(\n",
    "    x=alt.X('counts:Q', title='Occurrences over all OSD samples'),\n",
    "    y=alt.Y('ARG-class:O', title='ARG-Class', sort='-x')\n",
    ")\n",
    "\n",
    "text = bars.mark_text(\n",
    "    align='left',\n",
    "    baseline='middle',\n",
    "    dx=3  # Nudges text to right so it doesn't appear on top of the bar\n",
    ").encode(\n",
    "    text=alt.Text('counts:Q', format=\",.0f\")\n",
    ")\n",
    "\n",
    "if not debug:\n",
    "    (bars + text).save(snakemake.output[0])\n",
    "else:   \n",
    "    display((bars + text))"
   ],
   "outputs": [],
   "metadata": {}
  }
 ],
 "metadata": {
  "orig_nbformat": 4,
  "language_info": {
   "name": "python",
   "version": "3.9.6",
   "mimetype": "text/x-python",
   "codemirror_mode": {
    "name": "ipython",
    "version": 3
   },
   "pygments_lexer": "ipython3",
   "nbconvert_exporter": "python",
   "file_extension": ".py"
  },
  "kernelspec": {
   "name": "python3",
   "display_name": "Python 3.9.6 64-bit ('dev': conda)"
  },
  "interpreter": {
   "hash": "4d14215bf07220ae6fdb39e38fecd5215410232d09ed80391f92354c902c8edd"
  }
 },
 "nbformat": 4,
 "nbformat_minor": 2
}